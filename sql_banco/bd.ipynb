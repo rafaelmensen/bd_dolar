{
 "cells": [
  {
   "cell_type": "code",
   "execution_count": 10,
   "metadata": {},
   "outputs": [],
   "source": [
    "import requests\n",
    "import pandas as pd\n",
    "import certifi\n",
    "from datetime import datetime\n",
    "import os"
   ]
  },
  {
   "cell_type": "code",
   "execution_count": 21,
   "metadata": {},
   "outputs": [],
   "source": [
    "# Função para coletar cotações do dólar\n",
    "def coletar_cotacao():\n",
    "    url = \"https://api.bcb.gov.br/dados/serie/bcdata.sgs.1/dados?formato=json\"\n",
    "    response = requests.get(url, verify=False)  # Desativando a verificação de certificado\n",
    "    dados = response.json()\n",
    "\n",
    "    # Criar um DataFrame a partir dos dados\n",
    "    df = pd.DataFrame(dados)\n",
    "\n",
    "    # Converter a coluna 'data' para o formato de data\n",
    "    df['data'] = pd.to_datetime(df['data'], format='%d/%m/%Y')\n",
    "\n",
    "    # Renomear colunas para facilitar o uso\n",
    "    df.rename(columns={'data': 'Data', 'valor': 'Valor'}, inplace=True)\n",
    "\n",
    "    return df"
   ]
  },
  {
   "cell_type": "code",
   "execution_count": 22,
   "metadata": {},
   "outputs": [],
   "source": [
    "# Função para salvar o DataFrame em formato Parquet\n",
    "def salvar_em_parquet(df, nome_arquivo):\n",
    "    # Verifica se o arquivo já existe\n",
    "    if os.path.exists(nome_arquivo):\n",
    "        # Se existir, lê o arquivo existente e concatena os novos dados\n",
    "        df_existente = pd.read_parquet(nome_arquivo)\n",
    "        df = pd.concat([df_existente, df], ignore_index=True)\n",
    "            # Salva o DataFrame em formato Parquet\n",
    "    df.to_parquet(nome_arquivo, index=False)\n"
   ]
  },
  {
   "cell_type": "code",
   "execution_count": 23,
   "metadata": {},
   "outputs": [
    {
     "name": "stderr",
     "output_type": "stream",
     "text": [
      "c:\\Users\\rafael_mensen\\AppData\\Local\\Programs\\Python\\Python312\\Lib\\site-packages\\urllib3\\connectionpool.py:1099: InsecureRequestWarning: Unverified HTTPS request is being made to host 'api.bcb.gov.br'. Adding certificate verification is strongly advised. See: https://urllib3.readthedocs.io/en/latest/advanced-usage.html#tls-warnings\n",
      "  warnings.warn(\n"
     ]
    },
    {
     "name": "stdout",
     "output_type": "stream",
     "text": [
      "Cotações do dólar salvas em 'C:\\rafa\\bd_dolar\\sql_banco\\dolar_2025-01-30.parquet'\n"
     ]
    }
   ],
   "source": [
    "# Executar as funções\n",
    "cotacoes_df = coletar_cotacao()\n",
    "\n",
    "# Formatar a data para o nome do arquivo\n",
    "data_atual = datetime.now().strftime(\"%Y-%m-%d\")\n",
    "nome_arquivo = f\"C:\\\\rafa\\\\bd_dolar\\\\sql_banco\\\\dolar_{data_atual}.parquet\"\n",
    "\n",
    "salvar_em_parquet(cotacoes_df, nome_arquivo)\n",
    "\n",
    "print(f\"Cotações do dólar salvas em '{nome_arquivo}'\")"
   ]
  }
 ],
 "metadata": {
  "kernelspec": {
   "display_name": "Python 3",
   "language": "python",
   "name": "python3"
  },
  "language_info": {
   "codemirror_mode": {
    "name": "ipython",
    "version": 3
   },
   "file_extension": ".py",
   "mimetype": "text/x-python",
   "name": "python",
   "nbconvert_exporter": "python",
   "pygments_lexer": "ipython3",
   "version": "3.12.4"
  }
 },
 "nbformat": 4,
 "nbformat_minor": 2
}
