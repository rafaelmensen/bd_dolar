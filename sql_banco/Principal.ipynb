{
 "cells": [
  {
   "cell_type": "code",
   "execution_count": null,
   "metadata": {
    "vscode": {
     "languageId": "plaintext"
    }
   },
   "outputs": [],
   "source": [
    "import os\n",
    "import sys\n",
    "# sys.path.append('../../')\n",
    "sys.path.append(rf\"C:\\Git\\BI0730\")\n",
    "from libs.geral.utils import *\n",
    "pd.options.display.float_format = '{:,.2f}'.format\n",
    "pd.options.display.max_columns = None\n",
    "pd.options.display.max_colwidth = None\n",
    "from libs.geral.myconstants import *\n",
    "from libs.geral.utils import *\n",
    "from libs.geral.df_pipes import *\n",
    "from libs.denodo.conexaoDenodo import conexao_denodo as cnn"
   ]
  },
  {
   "cell_type": "code",
   "execution_count": null,
   "metadata": {
    "vscode": {
     "languageId": "plaintext"
    }
   },
   "outputs": [],
   "source": [
    "isa = ler_parquet(\"base_relacionamento_atual\")\n",
    "# encarteiramento = ler_parquet(\"encarteiramento_raw\")\n",
    "associados = carregar_associados_completo()\n",
    "# posi = ler_parquet(\"premio_emitido\") \n",
    "# posit = ler_parquet(\"seguros_premio_historico\") \n",
    "# posita = ler_parquet(\"seguros_vigentes_atual\") \n",
    "# restritivos = ler_parquet(nome_arquivo='restritivos_bureau_atual')\n",
    "# pessoas = ler_parquet('pessoas_endereco')\n",
    "cesta = ler_parquet('cesta_de_relacionamento_inicial_e_vigente_atual')"
   ]
  },
  {
   "cell_type": "code",
   "execution_count": null,
   "metadata": {
    "vscode": {
     "languageId": "plaintext"
    }
   },
   "outputs": [],
   "source": [
    "etl_deposito = (depos\n",
    "    .query(\"cod_agencia == '36'\")\n",
    "    .query(\"cod_carteira.isin(['111','010101'])\")\n",
    "    .rename(columns={\"cpf_cnpj_associado\":\"cpf_cnpj\"})\n",
    "    .assign(cpf_cnpj = lambda df : df[\"cpf_cnpj\"].str.replace(r\"\\D\",\"\", regex=True))\n",
    "    .assign(cpf_cnpj = lambda df : np.where(df[\"cpf_cnpj\"].str.len() <= 11, df[\"cpf_cnpj\"].str.zfill(11), df[\"cpf_cnpj\"].str.zfill(14)))\n",
    "    [[\"dat_competencia\",\"cod_agencia\",\"cpf_cnpj\",\"cod_carteira\",\"num_conta\",\"num_operacao\",\"produto\",\"produto\",\"vlr_atual\",\"indice\",\"des_tipo\",\n",
    "    \"flg_trava\",\"dat_carencia\",\"dat_vencimento\",\"dat_emissao\",\"vlr_taxa\",\"vlr_original\",\"des_marca\",\"flg_viabilizado\",\"vlr_juros\",\"vlr_tx_pos\",\"tipo_taxa\",\n",
    "        \"vlr_saldo_medio\",\"origem_aplicacao\"]]\n",
    ")"
   ]
  },
  {
   "cell_type": "code",
   "execution_count": null,
   "metadata": {
    "vscode": {
     "languageId": "plaintext"
    }
   },
   "outputs": [],
   "source": [
    "etl_investimento = (investi\n",
    "    .query(\"cod_agencia == '36'\")\n",
    "    .query(\"cod_carteira.isin(['111','010101'])\")\n",
    "    .assign(cpf_cnpj = lambda df : df[\"cpf_cnpj\"].str.replace(r\"\\D\",\"\", regex=True))\n",
    "    .assign(cpf_cnpj = lambda df : np.where(df[\"cpf_cnpj\"].str.len() <= 11, df[\"cpf_cnpj\"].str.zfill(11), df[\"cpf_cnpj\"].str.zfill(14)))\n",
    ")"
   ]
  },
  {
   "cell_type": "code",
   "execution_count": null,
   "metadata": {
    "vscode": {
     "languageId": "plaintext"
    }
   },
   "outputs": [],
   "source": [
    "\n",
    "path_to = criar_pasta_exportacao(\"Chamado 12522841 LCA E DEPOSITO \")\n",
    "salvar_jupyter_em_pasta(path_to, arquivo_reutilizado=False) \n",
    "etl_investimento.to_excel(os.path.join(path_to,\"LCA AG 36.xlsx\"),index=False)  \n",
    "etl_deposito.to_excel(os.path.join(path_to,\"DEPOSITO A PRAZO AG 36.xlsx\"),index=False)  \n",
    "os.startfile(path_to)\n",
    "os.startfile(path_to)"
   ]
  }
 ],
 "metadata": {
  "language_info": {
   "name": "python"
  }
 },
 "nbformat": 4,
 "nbformat_minor": 2
}
