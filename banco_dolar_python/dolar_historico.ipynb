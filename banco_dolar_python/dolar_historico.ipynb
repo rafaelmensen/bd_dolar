{
 "cells": [
  {
   "cell_type": "code",
   "execution_count": 12,
   "metadata": {},
   "outputs": [],
   "source": [
    "import pandas as pd\n",
    "import requests\n",
    "import schedule\n",
    "import time\n",
    "import os"
   ]
  },
  {
   "cell_type": "code",
   "execution_count": 15,
   "metadata": {},
   "outputs": [],
   "source": [
    "diretorio = r'C:\\rafa\\bd_dolar\\banco_dolar_python'  # Use um caminho absoluto\n",
    "arquivo_parquet = os.path.join(diretorio, 'dolar_historico.parquet')"
   ]
  },
  {
   "cell_type": "code",
   "execution_count": 20,
   "metadata": {},
   "outputs": [],
   "source": [
    "# Função para obter a cotação do dólar\n",
    "def obter_cotacao_dolar():\n",
    "    # Substitua pela sua chave de API, se necessário\n",
    "    url = 'https://api.exchangerate-api.com/v4/latest/USD'\n",
    "    response = requests.get(url)\n",
    "    data = response.json()\n",
    "    \n",
    "    # Obtenha a cotação do dólar em relação ao real\n",
    "    cotacao_dolar = data['rates']['BRL']\n",
    "    return cotacao_dolar"
   ]
  },
  {
   "cell_type": "code",
   "execution_count": 19,
   "metadata": {},
   "outputs": [],
   "source": [
    "# Função para atualizar o arquivo Parquet\n",
    "def atualizar_historico():\n",
    "    # Obtenha a cotação do dólar\n",
    "    cotacao = obter_cotacao_dolar()\n",
    "    data_atual = pd.Timestamp.now()\n",
    "    "
   ]
  },
  {
   "cell_type": "code",
   "execution_count": 21,
   "metadata": {},
   "outputs": [],
   "source": [
    "# Função para atualizar o arquivo Parquet\n",
    "def atualizar_historico():\n",
    "    # Obtenha a cotação do dólar\n",
    "    cotacao = obter_cotacao_dolar()\n",
    "    data_atual = pd.Timestamp.now()\n",
    "\n",
    "    # Crie um DataFrame com os dados\n",
    "    novo_dado = pd.DataFrame({\n",
    "        'data': [data_atual],\n",
    "        'dolar': [cotacao]\n",
    "    })\n",
    "\n",
    "    # Leia o arquivo existente, se ele existir\n",
    "    try:\n",
    "        df_existente = pd.read_parquet(arquivo_parquet)\n",
    "        # Concatene os novos dados com os existentes\n",
    "        df_atualizado = pd.concat([df_existente, novo_dado], ignore_index=True)\n",
    "    except FileNotFoundError:\n",
    "        # Se o arquivo não existir, use o novo dado como o DataFrame\n",
    "        df_atualizado = novo_dado\n",
    "\n",
    "    # Salve o DataFrame atualizado no arquivo Parquet\n",
    "    df_atualizado.to_parquet(arquivo_parquet, index=False)"
   ]
  },
  {
   "cell_type": "code",
   "execution_count": 25,
   "metadata": {},
   "outputs": [],
   "source": [
    "# Agende a atualização a cada 30 minutos\n",
    "schedule.every(30).minutes.do(atualizar_historico)\n",
    "    \n",
    "# Loop para manter o agendamento\n",
    "def run_schedule():\n",
    "    while True:\n",
    "        schedule.run_pending()\n",
    "        time.sleep(1)"
   ]
  }
 ],
 "metadata": {
  "kernelspec": {
   "display_name": "Python 3",
   "language": "python",
   "name": "python3"
  },
  "language_info": {
   "codemirror_mode": {
    "name": "ipython",
    "version": 3
   },
   "file_extension": ".py",
   "mimetype": "text/x-python",
   "name": "python",
   "nbconvert_exporter": "python",
   "pygments_lexer": "ipython3",
   "version": "3.12.4"
  }
 },
 "nbformat": 4,
 "nbformat_minor": 2
}
