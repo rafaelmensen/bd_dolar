{
 "cells": [
  {
   "cell_type": "code",
   "execution_count": 2,
   "metadata": {},
   "outputs": [],
   "source": [
    "import os\n",
    "import sys\n",
    "import requests\n",
    "import sqlite3\n",
    "import schedule\n",
    "import time\n",
    "# sys.path.append('../../')\n",
    "sys.path.append(rf\"C:\\Git\\BI0730\")\n",
    "from libs.geral.utils import *\n",
    "# from inner_libs.libs import *\n",
    "pd.options.display.float_format = '{:,.2f}'.format\n",
    "pd.options.display.max_columns = None\n",
    "pd.options.display.max_colwidth = None\n",
    "from libs.geral.myconstants import *\n",
    "from libs.geral.utils import *\n",
    "from libs.geral.df_pipes import *\n",
    "from libs.denodo.conexaoDenodo import conexao_denodo as cnn"
   ]
  },
  {
   "cell_type": "code",
   "execution_count": 3,
   "metadata": {},
   "outputs": [],
   "source": [
    "# Defina o caminho do diretório onde você deseja salvar os arquivos\n",
    "diretorio = r'C:\\rafa\\bd_dolar'"
   ]
  },
  {
   "cell_type": "code",
   "execution_count": 4,
   "metadata": {},
   "outputs": [],
   "source": [
    "# Função para criar o banco de dados e a tabela\n",
    "def create_database():\n",
    "    caminho_db = os.path.join(diretorio, 'cotacao_dolar.db')\n",
    "    conn = sqlite3.connect(caminho_db)\n",
    "    cursor = conn.cursor()\n",
    "    cursor.execute('''\n",
    "        CREATE TABLE IF NOT EXISTS cotacoes (\n",
    "            id INTEGER PRIMARY KEY AUTOINCREMENT,\n",
    "            data_hora TEXT,\n",
    "            valor REAL\n",
    "        )\n",
    "    ''')\n",
    "    conn.commit()\n",
    "    conn.close()"
   ]
  },
  {
   "cell_type": "code",
   "execution_count": 5,
   "metadata": {},
   "outputs": [],
   "source": [
    "# Função para obter a cotação do dólar\n",
    "def get_cotacao_dolar():\n",
    "    url = 'https://api.exchangerate-api.com/v4/latest/USD'  # Exemplo de API\n",
    "    response = requests.get(url)\n",
    "    data = response.json()\n",
    "    valor_dolar = data['rates']['BRL']  # Cotação do dólar em relação ao real\n",
    "    return valor_dolar"
   ]
  },
  {
   "cell_type": "code",
   "execution_count": 6,
   "metadata": {},
   "outputs": [],
   "source": [
    "# Função para salvar a cotação no banco de dados\n",
    "def save_cotacao():\n",
    "    valor_dolar = get_cotacao_dolar()\n",
    "    data_hora = time.strftime('%Y-%m-%d %H:%M:%S')\n",
    "    \n",
    "    # Salvar no banco de dados\n",
    "    caminho_db = os.path.join(diretorio, 'cotacao_dolar.db')\n",
    "    conn = sqlite3.connect(caminho_db)\n",
    "    cursor = conn.cursor()\n",
    "    cursor.execute('''\n",
    "        INSERT INTO cotacoes (data_hora, valor) VALUES (?, ?)\n",
    "    ''', (data_hora, valor_dolar))\n",
    "    conn.commit()\n",
    "    conn.close()\n",
    "    print(f'Cotação salva automaticamente: {data_hora} - R$ {valor_dolar:.4f}')"
   ]
  },
  {
   "cell_type": "code",
   "execution_count": 7,
   "metadata": {},
   "outputs": [],
   "source": [
    "# Função para salvar manualmente e exportar para Parquet\n",
    "def save_manual_and_export():\n",
    "    valor_dolar = get_cotacao_dolar()\n",
    "    data_hora = time.strftime('%Y-%m-%d %H:%M:%S')\n",
    "    \n",
    "    # Salvar no banco de dados\n",
    "    caminho_db = os.path.join(diretorio, 'cotacao_dolar.db')\n",
    "    conn = sqlite3.connect(caminho_db)\n",
    "    cursor = conn.cursor()\n",
    "    cursor.execute('''\n",
    "        INSERT INTO cotacoes (data_hora, valor) VALUES (?, ?)\n",
    "    ''', (data_hora, valor_dolar))\n",
    "    conn.commit()\n",
    "    conn.close()\n",
    "    # Criar DataFrame e exportar para Parquet com nome único\n",
    "    df = pd.DataFrame({'data': [data_hora], 'valor cotação': [f'{valor_dolar:.4f}' ]})\n",
    "    \n",
    "    # Gerar um nome de arquivo único baseado na data e hora\n",
    "    timestamp = time.strftime('%Y%m%d_%H%M%S')\n",
    "    caminho_parquet = os.path.join(diretorio, f'cotacao_dolar_{timestamp}.parquet')\n",
    "    \n",
    "    df.to_parquet(caminho_parquet, index=False, engine='pyarrow', compression='snappy')\n",
    "    print(f'Cotação salva manualmente e exportada para Parquet: {data_hora} - R$ {valor_dolar:.4f}')\n"
   ]
  },
  {
   "cell_type": "code",
   "execution_count": 10,
   "metadata": {},
   "outputs": [],
   "source": [
    "# Criar o banco de dados e a tabela\n",
    "create_database()\n",
    "\n",
    "# Agendar a execução da função a cada minuto\n",
    "schedule.every(15).minutes.do(save_manual_and_export)\n",
    "\n",
    "# Loop para manter o agendamento\n",
    "def run_schedule():\n",
    "    while True:\n",
    "        schedule.run_pending()\n",
    "        time.sleep(1)"
   ]
  },
  {
   "cell_type": "code",
   "execution_count": 11,
   "metadata": {},
   "outputs": [],
   "source": [
    "# Para rodar o agendamento em um thread separado\n",
    "import threading\n",
    "threading.Thread(target=run_schedule, daemon=True).start()\n",
    "\n",
    "# save_manual_and_export()"
   ]
  }
 ],
 "metadata": {
  "kernelspec": {
   "display_name": "Python 3",
   "language": "python",
   "name": "python3"
  },
  "language_info": {
   "codemirror_mode": {
    "name": "ipython",
    "version": 3
   },
   "file_extension": ".py",
   "mimetype": "text/x-python",
   "name": "python",
   "nbconvert_exporter": "python",
   "pygments_lexer": "ipython3",
   "version": "3.12.4"
  }
 },
 "nbformat": 4,
 "nbformat_minor": 2
}
